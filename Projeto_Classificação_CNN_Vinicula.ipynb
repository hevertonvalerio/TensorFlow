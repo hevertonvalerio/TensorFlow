{
  "nbformat": 4,
  "nbformat_minor": 0,
  "metadata": {
    "colab": {
      "provenance": [],
      "mount_file_id": "1mZKUjeXHDIVG-hUgGW6dvjEJ6B-47fy_",
      "authorship_tag": "ABX9TyOv5Vo8j4JSjFo0H2bPpHiw",
      "include_colab_link": true
    },
    "kernelspec": {
      "name": "python3",
      "display_name": "Python 3"
    },
    "language_info": {
      "name": "python"
    }
  },
  "cells": [
    {
      "cell_type": "markdown",
      "metadata": {
        "id": "view-in-github",
        "colab_type": "text"
      },
      "source": [
        "<a href=\"https://colab.research.google.com/github/hevertonvalerio/TensorFlow/blob/main/Projeto_Classifica%C3%A7%C3%A3o_CNN_Vinicula.ipynb\" target=\"_parent\"><img src=\"https://colab.research.google.com/assets/colab-badge.svg\" alt=\"Open In Colab\"/></a>"
      ]
    },
    {
      "cell_type": "code",
      "execution_count": 3,
      "metadata": {
        "id": "3faPIFAv-Mt8"
      },
      "outputs": [],
      "source": [
        "url = '/content/drive/MyDrive/Colab Notebooks/Estudo/Tensor Flow/Projeto Vinícula/uvas'"
      ]
    },
    {
      "cell_type": "code",
      "source": [
        "import pathlib\n",
        "import PIL"
      ],
      "metadata": {
        "id": "QRKZYU_k_Xfn"
      },
      "execution_count": 16,
      "outputs": []
    },
    {
      "cell_type": "code",
      "source": [
        "data_dir = pathlib.Path(url)"
      ],
      "metadata": {
        "id": "70AoakiM_aog"
      },
      "execution_count": 6,
      "outputs": []
    },
    {
      "cell_type": "code",
      "source": [
        "len(list(data_dir.glob('*/*.JPG')))"
      ],
      "metadata": {
        "colab": {
          "base_uri": "https://localhost:8080/"
        },
        "id": "31HW_A5a_git",
        "outputId": "624411da-7fa3-4933-fdc0-1b4e37eb1866"
      },
      "execution_count": 8,
      "outputs": [
        {
          "output_type": "execute_result",
          "data": {
            "text/plain": [
              "1600"
            ]
          },
          "metadata": {},
          "execution_count": 8
        }
      ]
    },
    {
      "cell_type": "code",
      "source": [
        "subfolder = [f.name for f in data_dir.iterdir() if f.is_dir()]\n",
        "subfolder"
      ],
      "metadata": {
        "colab": {
          "base_uri": "https://localhost:8080/"
        },
        "id": "1_mgJwJM_t1J",
        "outputId": "6744e290-8c12-487d-8ebb-81af9e9e2d4e"
      },
      "execution_count": 15,
      "outputs": [
        {
          "output_type": "execute_result",
          "data": {
            "text/plain": [
              "['BlackMeasles', 'BlackRot', 'HealthyGrapes', 'LeafBlight']"
            ]
          },
          "metadata": {},
          "execution_count": 15
        }
      ]
    },
    {
      "cell_type": "code",
      "source": [
        "subfolder = [f.name for f in data_dir.iterdir() if f.is_dir()] # Use iterdir() to iterate over the directory contents\n",
        "subfolder"
      ],
      "metadata": {
        "colab": {
          "base_uri": "https://localhost:8080/"
        },
        "id": "cup4d_RKAm1X",
        "outputId": "935b9f03-a8f3-4b44-a0cb-0ccd44a68d07"
      },
      "execution_count": 14,
      "outputs": [
        {
          "output_type": "execute_result",
          "data": {
            "text/plain": [
              "['BlackMeasles', 'BlackRot', 'HealthyGrapes', 'LeafBlight']"
            ]
          },
          "metadata": {},
          "execution_count": 14
        }
      ]
    },
    {
      "cell_type": "code",
      "source": [
        "leafblight = list(data_dir.glob('LeafBlight/*'))"
      ],
      "metadata": {
        "id": "SR1vt-__B_o_"
      },
      "execution_count": 17,
      "outputs": []
    }
  ]
}