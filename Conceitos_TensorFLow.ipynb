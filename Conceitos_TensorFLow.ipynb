{
  "nbformat": 4,
  "nbformat_minor": 0,
  "metadata": {
    "colab": {
      "provenance": [],
      "toc_visible": true,
      "include_colab_link": true
    },
    "kernelspec": {
      "name": "python3",
      "display_name": "Python 3"
    },
    "language_info": {
      "name": "python"
    }
  },
  "cells": [
    {
      "cell_type": "markdown",
      "metadata": {
        "id": "view-in-github",
        "colab_type": "text"
      },
      "source": [
        "<a href=\"https://colab.research.google.com/github/hevertonvalerio/TensorFlow/blob/main/Conceitos_TensorFLow.ipynb\" target=\"_parent\"><img src=\"https://colab.research.google.com/assets/colab-badge.svg\" alt=\"Open In Colab\"/></a>"
      ]
    },
    {
      "cell_type": "markdown",
      "source": [
        "# Sintese dos conceitos"
      ],
      "metadata": {
        "id": "TcUg2AwDaJBk"
      }
    },
    {
      "cell_type": "markdown",
      "source": [
        "### **TensorFlow**\n",
        "\n",
        "É uma biblioteca de código aberto usada para construir e treinar modelos de aprendizado de máquina e redes neurais."
      ],
      "metadata": {
        "id": "b9mU1dBDbaKc"
      }
    },
    {
      "cell_type": "markdown",
      "source": [
        "### **Processamento de Imagem (Classificação)**\n",
        "\n",
        "O processamento de imagem envolve técnicas para manipular e analisar imagens digitais. A classificação de imagens é uma tarefa onde o objetivo é **atribuir uma etiqueta a uma imagem** de acordo com seu conteúdo visual. Por exemplo, classificar uma imagem como contendo um \"gato\" ou um \"cachorro\"."
      ],
      "metadata": {
        "id": "DHo5EMvjbBHs"
      }
    },
    {
      "cell_type": "markdown",
      "source": [
        "### **CNNs (Convolutional Neural Networks)**\n",
        "\n",
        "Redes Neurais Convolucionais são um tipo de rede neural especializada no processamento de dados que têm uma grade de topologia, como imagens. Elas utilizam convoluções para extrair características de diferentes partes da imagem e são altamente eficazes em tarefas de visão computacional.\n",
        "\n",
        "\n",
        "> Convolução - Operação matemática entre duas funções para produzir uma terceira\n",
        "\n",
        "> Topologia - Topologia lida com as propriedades de um objeto que permanecem inalteradas mesmo quando o objeto é distorcido de forma contínua."
      ],
      "metadata": {
        "id": "khiNpM1hbNNp"
      }
    },
    {
      "cell_type": "markdown",
      "source": [
        "Usamos CNNs para construir modelos de classificação de imagens.\n",
        "\n",
        "É possível utilizar `keras` para definir uma arquitetura de CNN e treinar um modelo para classificar imagens.\n"
      ],
      "metadata": {
        "id": "Z8F8cWWkboFr"
      }
    },
    {
      "cell_type": "code",
      "source": [
        "   import tensorflow as tf\n",
        "   from tensorflow import keras\n",
        "\n",
        "   model = models.Sequential([\n",
        "       layers.Conv2D(32, (3, 3), activation='relu', input_shape=(64, 64, 3)),\n",
        "       layers.MaxPooling2D((2, 2)),\n",
        "       layers.Conv2D(64, (3, 3), activation='relu'),\n",
        "       layers.MaxPooling2D((2, 2)),\n",
        "       layers.Conv2D(128, (3, 3), activation='relu'),\n",
        "       layers.Flatten(),\n",
        "       layers.Dense(64, activation='relu'),\n",
        "       layers.Dense(10, activation='softmax')\n",
        "   ])\n",
        "\n",
        "   model.compile(optimizer='adam', loss='sparse_categorical_crossentropy', metrics=['accuracy'])"
      ],
      "metadata": {
        "id": "Ml7Jnt5GcNYK"
      },
      "execution_count": null,
      "outputs": []
    },
    {
      "cell_type": "markdown",
      "source": [
        "### **Regressão Linear com TensorFlow**\n",
        "\n",
        "Regressão é uma técnica de aprendizado de máquina usada para prever um valor contínuo. Diferente da classificação, que prevê categorias (qualitativo), a regressão tenta prever um valor (quantitativo). Por exemplo, prever o preço de uma casa com base em suas características."
      ],
      "metadata": {
        "id": "DZHflM2nbFiN"
      }
    },
    {
      "cell_type": "markdown",
      "source": [
        "Para problemas de regressão, podemos usar redes neurais com `layers.Dense`"
      ],
      "metadata": {
        "id": "7KXwKQHhcbiv"
      }
    },
    {
      "cell_type": "code",
      "source": [
        "import tensorflow as tf\n",
        "from tensorflow import keras\n",
        "import numpy as np\n",
        "\n",
        "model = keras.Sequential([keras.layers.Dense(units=1, input_shape=[1])])\n",
        "model.compile(optimizer='sgd', loss='mean_squared_error', metrics=['mae'])\n",
        "\n",
        "xs = np.array([-1.0, 0.0, 1.0, 2.0, 3.0, 4.0], dtype=float)\n",
        "ys = np.array([-3.0, -1.0, 1.0, 3.0, 5.0, 7.0], dtype=float)\n",
        "\n",
        "model.fit(xs, ys, epochs=250)\n",
        "\n",
        "print(model.predict([10.0]))"
      ],
      "metadata": {
        "id": "P-LFtp7IGws5"
      },
      "execution_count": null,
      "outputs": []
    },
    {
      "cell_type": "markdown",
      "source": [
        "### Transfer Learning\n",
        "\n",
        "Transfer Learning é uma técnica onde um modelo pré-treinado em um grande conjunto de dados é reutilizado para uma tarefa diferente, mas relacionada. Por exemplo, usar um modelo treinado no ImageNet para classificar imagens médicas."
      ],
      "metadata": {
        "id": "8aebBeT0bLSu"
      }
    },
    {
      "cell_type": "markdown",
      "source": [
        "Com TensorFlow, você pode carregar modelos pré-treinados como VGG16 ou ResNet e ajustá-los para sua tarefa específica. Aqui está um exemplo de como usar o VGG16 para classificação de imagem:\n"
      ],
      "metadata": {
        "id": "mFmgDQCQgyds"
      }
    },
    {
      "cell_type": "markdown",
      "source": [
        "### VGG16\n",
        "\n",
        "VGG16 é uma arquitetura de CNN desenvolvida pelo Visual Geometry Group (VGG) da Universidade de Oxford. É uma rede profunda com 16 camadas de convolução, conhecida por sua simplicidade e desempenho robusto em tarefas de classificação de imagem."
      ],
      "metadata": {
        "id": "CpJD-ayqbO68"
      }
    },
    {
      "cell_type": "code",
      "source": [
        " from tensorflow.keras.applications import VGG16\n",
        "\n",
        "   base_model = VGG16(weights='imagenet', include_top=False, input_shape=(64, 64, 3))\n",
        "   base_model.trainable = False\n",
        "\n",
        "   model = models.Sequential([\n",
        "       base_model,\n",
        "       layers.Flatten(),\n",
        "       layers.Dense(64, activation='relu'),\n",
        "       layers.Dense(10, activation='softmax')\n",
        "   ])\n",
        "\n",
        "   model.compile(optimizer='adam', loss='sparse_categorical_crossentropy', metrics=['accuracy'])"
      ],
      "metadata": {
        "id": "mfIKf4eJgxz_"
      },
      "execution_count": null,
      "outputs": []
    },
    {
      "cell_type": "markdown",
      "source": [
        "### ResNet\n",
        "\n",
        "ResNet (Residual Network) é uma arquitetura de CNN desenvolvida pela Microsoft. Ela introduz conexões residuais, que ajudam a treinar redes muito profundas (com centenas de camadas) mitigando o problema de vanishing gradient."
      ],
      "metadata": {
        "id": "2FvPcQXvbRcY"
      }
    },
    {
      "cell_type": "code",
      "source": [
        "   from tensorflow.keras.applications import ResNet50\n",
        "\n",
        "   base_model = ResNet50(weights='imagenet', include_top=False, input_shape=(64, 64, 3))\n",
        "   base_model.trainable = False\n",
        "\n",
        "   model = models.Sequential([\n",
        "       base_model,\n",
        "       layers.GlobalAveragePooling2D(),\n",
        "       layers.Dense(64, activation='relu'),\n",
        "       layers.Dense(10, activation='softmax')\n",
        "   ])\n",
        "\n",
        "   model.compile(optimizer='adam', loss='sparse_categorical_crossentropy', metrics=['accuracy'])"
      ],
      "metadata": {
        "id": "wO7u0GuXha_1"
      },
      "execution_count": null,
      "outputs": []
    },
    {
      "cell_type": "markdown",
      "source": [
        "\n",
        "### Conclusão\n",
        "\n",
        "Esses conceitos são interconectados no contexto de visão computacional e aprendizado de máquina. Com TensorFlow, você pode construir, treinar e ajustar modelos complexos usando técnicas de transferência de aprendizado, arquiteturas avançadas de CNN como VGG16 e ResNet, e aplicar esses modelos em tarefas de classificação de imagem e regressão. Isso permite criar soluções poderosas e eficientes para uma variedade de problemas em ciência de dados e inteligência artificial."
      ],
      "metadata": {
        "id": "rc0AsfTOaW4G"
      }
    },
    {
      "cell_type": "markdown",
      "source": [
        "# Relação entre as Àreas\n"
      ],
      "metadata": {
        "id": "Z649IM_Ycre1"
      }
    },
    {
      "cell_type": "markdown",
      "source": [
        "## Inteligência Artificial (IA)"
      ],
      "metadata": {
        "id": "3S_Nr_WJc0nw"
      }
    },
    {
      "cell_type": "markdown",
      "source": [
        "### 6. *Redes Neurais e Aprendizado Profundo (Deep Learning)*:\n",
        "   - Redes Neurais Convolucionais (CNNs)\n",
        "   - Redes Neurais Recorrentes (RNNs)\n",
        "   - Redes Adversárias Generativas (GANs)"
      ],
      "metadata": {
        "id": "3h5b6C7GdYL1"
      }
    },
    {
      "cell_type": "markdown",
      "source": [
        "Redes Neurais (NN) e Aprendizado Profundo (DNN)\n",
        "\n",
        "Correlação\n",
        "Estrutura de Redes: Redes neurais são a base do aprendizado profundo. Todas as técnicas de aprendizado profundo utilizam redes neurais como a estrutura fundamental.\n",
        "\n",
        "Modelagem de Dados Complexos: Ambos são usados para modelar e resolver problemas complexos, como reconhecimento de imagens, processamento de linguagem natural e jogos."
      ],
      "metadata": {
        "id": "TvjaV3rqemcs"
      }
    },
    {
      "cell_type": "code",
      "source": [
        "# Rede Neural Simples (NN)\n",
        "\n",
        "import tensorflow as tf\n",
        "from tensorflow.keras import layers, models\n",
        "\n",
        "# Apenas uma camada oculta\n",
        "model_nn = models.Sequential([\n",
        "    layers.Dense(64, activation='relu', input_shape=(10,)),\n",
        "    layers.Dense(1)\n",
        "])\n",
        "\n",
        "model_nn.compile(optimizer='adam', loss='mean_squared_error')\n"
      ],
      "metadata": {
        "id": "A6dSwUite0li"
      },
      "execution_count": null,
      "outputs": []
    },
    {
      "cell_type": "code",
      "source": [
        "# Rede Neural Profunda (DNN)\n",
        "\n",
        "import tensorflow as tf\n",
        "from tensorflow.keras import layers, models\n",
        "\n",
        "#Várias camadas ocultas\n",
        "model_dnn = models.Sequential([\n",
        "    layers.Dense(64, activation='relu', input_shape=(10,)),\n",
        "    layers.Dense(64, activation='relu'),\n",
        "    layers.Dense(64, activation='relu'),\n",
        "    layers.Dense(1)\n",
        "])\n",
        "\n",
        "model_dnn.compile(optimizer='adam', loss='mean_squared_error')\n"
      ],
      "metadata": {
        "id": "LhLggyiIe2Di"
      },
      "execution_count": null,
      "outputs": []
    },
    {
      "cell_type": "markdown",
      "source": [
        "###1. *Machine Learning (Aprendizado de Máquina)*:\n",
        "   - Aprendizado Supervisionado\n",
        "   - Aprendizado Não Supervisionado\n",
        "   - Aprendizado Semi-Supervisionado\n",
        "   - Aprendizado por Reforço\n",
        "   - Aprendizado de Transferência\n"
      ],
      "metadata": {
        "id": "xZi7nK1_dCxN"
      }
    },
    {
      "cell_type": "markdown",
      "source": [
        "###3. *Visão Computacional*:\n",
        "   - Reconhecimento de Imagens\n",
        "   - Detecção de Objetos\n",
        "   - Segmentação de Imagens\n",
        "   - Reconhecimento Facial\n",
        "   - Análise de Vídeo\n"
      ],
      "metadata": {
        "id": "18sH-CgZdPOO"
      }
    },
    {
      "cell_type": "markdown",
      "source": [
        "###2. *Processamento de Linguagem Natural (NLP - Natural Language Processing)*:\n",
        "   - Análise de Sentimentos\n",
        "   - Tradução Automática\n",
        "   - Resposta a Perguntas\n",
        "   - Resumo Automático\n",
        "   - Reconhecimento de Entidades Nomeadas"
      ],
      "metadata": {
        "id": "Pg4NGnGidMqk"
      }
    },
    {
      "cell_type": "markdown",
      "source": [
        "###4. *Robótica*:\n",
        "   - Robótica Industrial\n",
        "   - Robôs Autônomos\n",
        "   - Robótica Médica\n",
        "   - Robótica de Serviço"
      ],
      "metadata": {
        "id": "9fZCcGPxdSk1"
      }
    },
    {
      "cell_type": "markdown",
      "source": [
        "###5. *Sistemas Especialistas*:\n",
        "   - Sistemas de Diagnóstico\n",
        "   - Sistemas de Recomendação\n",
        "   - Assistentes Virtuais"
      ],
      "metadata": {
        "id": "iHuKnLmJdVuB"
      }
    },
    {
      "cell_type": "markdown",
      "source": [
        "###7. *Agentes Inteligentes e Sistemas Multiagentes*:\n",
        "   - Sistemas de Agentes Autônomos\n",
        "   - Simulação de Multiagentes"
      ],
      "metadata": {
        "id": "zdqQcJugddrX"
      }
    },
    {
      "cell_type": "markdown",
      "source": [
        "###8. *Raciocínio Automatizado e Planejamento*:\n",
        "   - Algoritmos de Busca e Otimização\n",
        "   - Planejamento Automático\n"
      ],
      "metadata": {
        "id": "CVcv733Udgg_"
      }
    },
    {
      "cell_type": "markdown",
      "source": [
        "###9. *Inteligência Artificial Explicável (XAI - Explainable AI)*:\n",
        "   - Métodos e técnicas para tornar a IA interpretável e compreensível para humanos"
      ],
      "metadata": {
        "id": "KiyoMk6idi9e"
      }
    }
  ]
}